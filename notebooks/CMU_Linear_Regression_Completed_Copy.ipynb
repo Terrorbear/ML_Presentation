{
 "cells": [
  {
   "cell_type": "code",
   "execution_count": null,
   "metadata": {},
   "outputs": [],
   "source": [
    "# This is just a preamble that sets a bunch of options up.\n",
    "\n",
    "# render graphs inline\n",
    "%matplotlib inline\n",
    "\n",
    "import matplotlib\n",
    "import pandas as pd\n",
    "import numpy as np\n",
    "import matplotlib.pyplot as plt\n",
    "\n",
    "matplotlib.style.use('ggplot')\n",
    "plt.rcParams['figure.figsize'] = (15, 5)\n",
    "pd.set_option('precision', 5)\n",
    "pd.set_option('display.float_format', lambda x: '%.3f' % x)"
   ]
  },
  {
   "cell_type": "code",
   "execution_count": null,
   "metadata": {},
   "outputs": [],
   "source": [
    "path = '/Users/terence/Downloads/HistoricalQuotes (4).csv'"
   ]
  },
  {
   "cell_type": "code",
   "execution_count": null,
   "metadata": {},
   "outputs": [],
   "source": [
    "import csv\n",
    "with open(path, 'r') as fi:\n",
    "    reader = csv.reader(fi)\n",
    "    for row in reader:\n",
    "        print(', '.join(row))"
   ]
  },
  {
   "cell_type": "markdown",
   "metadata": {},
   "source": [
    "### Look how _pretty_ this is!"
   ]
  },
  {
   "cell_type": "code",
   "execution_count": null,
   "metadata": {},
   "outputs": [],
   "source": [
    "dataset = pd.read_csv(path)\n",
    "dataset.head()"
   ]
  },
  {
   "cell_type": "code",
   "execution_count": null,
   "metadata": {},
   "outputs": [],
   "source": [
    "# We can manipulate the data!\n",
    "(dataset['high'] - dataset['low']).head()"
   ]
  },
  {
   "cell_type": "code",
   "execution_count": null,
   "metadata": {},
   "outputs": [],
   "source": [
    "# Sort by date\n",
    "dataset = dataset[1:]\n",
    "dataset.date = pd.to_datetime(dataset.date, format='%Y/%m/%d')\n",
    "dataset.set_index('date', inplace=True)\n",
    "dataset.sort_index(inplace=True)\n",
    "dataset.head()"
   ]
  },
  {
   "cell_type": "code",
   "execution_count": null,
   "metadata": {},
   "outputs": [],
   "source": [
    "# Feature Scale Volume!\n",
    "dataset['volume'] = dataset['volume'].astype(float) * 1e-6"
   ]
  },
  {
   "cell_type": "code",
   "execution_count": null,
   "metadata": {},
   "outputs": [],
   "source": [
    "# What does the volume look like?\n",
    "dataset['volume'].plot()"
   ]
  },
  {
   "cell_type": "markdown",
   "metadata": {},
   "source": [
    "## Plot prices!"
   ]
  },
  {
   "cell_type": "code",
   "execution_count": null,
   "metadata": {},
   "outputs": [],
   "source": [
    "dataset[['open', 'close', 'high', 'low']].plot()"
   ]
  },
  {
   "cell_type": "markdown",
   "metadata": {},
   "source": [
    "# Let's predict closing prices with Machine Learning!"
   ]
  },
  {
   "cell_type": "code",
   "execution_count": null,
   "metadata": {},
   "outputs": [],
   "source": [
    "# split columns into two sets. \n",
    "# Explanatory variables, X. Dependent Variable, Y\n",
    "\n",
    "X = dataset[['volume', 'open', 'high', 'low']]\n",
    "Y = dataset['close']\n",
    "\n",
    "display(X.head())\n",
    "display(Y.head())"
   ]
  },
  {
   "cell_type": "code",
   "execution_count": null,
   "metadata": {},
   "outputs": [],
   "source": [
    "# Split the data into training and test sets\n",
    "\n",
    "train_len = int(len(dataset) * .9)\n",
    "\n",
    "X_train = X[:train_len]\n",
    "Y_train = Y[:train_len]\n",
    "X_test = X[train_len:]\n",
    "Y_test = Y[train_len:]\n",
    "\n",
    "print('Train size:', len(X_train))\n",
    "print('Test size:', len(X_test))"
   ]
  },
  {
   "cell_type": "code",
   "execution_count": null,
   "metadata": {},
   "outputs": [],
   "source": [
    "# Import the algorithm!\n",
    "\n",
    "from sklearn.linear_model import LinearRegression\n",
    "help(LinearRegression)"
   ]
  },
  {
   "cell_type": "code",
   "execution_count": null,
   "metadata": {},
   "outputs": [],
   "source": [
    "# 1. Create the model\n",
    "\n",
    "model = LinearRegression()\n",
    "\n",
    "# 2. Fit the model\n",
    "\n",
    "model.fit(X_train, Y_train)\n",
    "\n",
    "# 3. Test it!\n",
    "\n",
    "print(model.score(X_train, Y_train))\n",
    "print(model.score(X_test, Y_test))\n"
   ]
  },
  {
   "cell_type": "markdown",
   "metadata": {},
   "source": [
    "## How does the machine predict?"
   ]
  },
  {
   "cell_type": "code",
   "execution_count": null,
   "metadata": {},
   "outputs": [],
   "source": [
    "# Print the model equation\n",
    "\n",
    "eq = \"close = \"\n",
    "for i in range(len(X_train.columns)):\n",
    "    eq += \"%.6f * %s + \" % (model.coef_[i], X_train.columns[i])\n",
    "eq += \"%.6f\" % model.intercept_\n",
    "\n",
    "print(\"Linear regression model:\")\n",
    "print(eq)"
   ]
  },
  {
   "cell_type": "markdown",
   "metadata": {},
   "source": [
    "# Let's try a different data set! How about past prices?"
   ]
  },
  {
   "cell_type": "code",
   "execution_count": null,
   "metadata": {},
   "outputs": [],
   "source": [
    "days_to_look_back = 5\n",
    "prev_close = dataset['close']\n",
    "\n",
    "for i in range(1, days_to_look_back + 1):\n",
    "\n",
    "    prev_close = dataset['close'].shift(i)\n",
    "    \n",
    "    dataset['prev_close_%d' % i] = prev_close\n",
    "\n",
    "dataset.head()"
   ]
  },
  {
   "cell_type": "code",
   "execution_count": null,
   "metadata": {},
   "outputs": [],
   "source": [
    "# Drop NaN's\n",
    "\n",
    "dataset.dropna(inplace=True)\n",
    "dataset.head()"
   ]
  },
  {
   "cell_type": "code",
   "execution_count": null,
   "metadata": {},
   "outputs": [],
   "source": [
    "# Split the data into training and test sets\n",
    "\n",
    "X2 = dataset[['prev_close_%d' % i for i in range(1, days_to_look_back + 1)]]\n",
    "\n",
    "Y2 = dataset['close']\n",
    "\n",
    "X2_train = X2[:train_len]\n",
    "Y2_train = Y2[:train_len]\n",
    "X2_test = X2[train_len:]\n",
    "Y2_test = Y2[train_len:]\n",
    "\n",
    "print('Train size:', len(X2_train))\n",
    "print('Test size:', len(X2_test))\n",
    "\n",
    "from sklearn.linear_model import LinearRegression\n",
    "\n",
    "model2 = LinearRegression()\n",
    "model2.fit(X2_train, Y2_train)"
   ]
  },
  {
   "cell_type": "code",
   "execution_count": null,
   "metadata": {},
   "outputs": [],
   "source": [
    "# Scatter the actual prices vs. predicted prices\n",
    "\n",
    "Y2_pred = model2.predict(X2_test)\n",
    "plt.scatter(x = Y2_pred, y = Y2_test, c = 'r')\n",
    "plt.xlabel(\"Prediction\")\n",
    "plt.ylabel(\"Actual\")\n",
    "plt.show()"
   ]
  },
  {
   "cell_type": "code",
   "execution_count": null,
   "metadata": {
    "scrolled": true
   },
   "outputs": [],
   "source": [
    "print(model2.score(X2_train, Y2_train))\n",
    "print(model2.score(X2_test, Y2_test))"
   ]
  },
  {
   "cell_type": "markdown",
   "metadata": {},
   "source": [
    "# Which days are great for stocks?"
   ]
  },
  {
   "cell_type": "code",
   "execution_count": null,
   "metadata": {},
   "outputs": [],
   "source": [
    "# What are returns?\n",
    "dataset['return'] = (dataset['close'] - dataset['open'])/dataset['open']"
   ]
  },
  {
   "cell_type": "code",
   "execution_count": null,
   "metadata": {},
   "outputs": [],
   "source": [
    "# Define previous day open-to-close returns\n",
    "\n",
    "days_to_look_back = 5\n",
    "prev_return = dataset['return']\n",
    "\n",
    "for i in range(1, days_to_look_back + 1):\n",
    "    prev_return = dataset['return'].shift(i)\n",
    "    dataset['prev_return_%d' % i] = prev_return\n",
    "dataset.dropna(inplace=True)\n",
    "print(dataset.head())"
   ]
  },
  {
   "cell_type": "code",
   "execution_count": null,
   "metadata": {},
   "outputs": [],
   "source": [
    "# Train a model for today's return based on previous day returns\n",
    "\n",
    "X = dataset[['prev_return_%d' % i for i in range(1, days_to_look_back + 1)]]\n",
    "Y = dataset['return']\n",
    "\n",
    "X_train = X[:train_len]\n",
    "Y_train = Y[:train_len]\n",
    "X_test = X[train_len:]\n",
    "Y_test = Y[train_len:]\n",
    "\n",
    "print('Train size:', len(X_train))\n",
    "print('Test size:', len(X_test))\n",
    "\n",
    "model = LinearRegression()\n",
    "model.fit(X_train, Y_train)"
   ]
  },
  {
   "cell_type": "code",
   "execution_count": null,
   "metadata": {
    "scrolled": true
   },
   "outputs": [],
   "source": [
    "print(model.score(X_train, Y_train))\n",
    "print(model.score(X_test, Y_test))"
   ]
  },
  {
   "cell_type": "code",
   "execution_count": null,
   "metadata": {},
   "outputs": [],
   "source": [
    "# Scatter the actual returns vs. predicted returns\n",
    "Y_pred = model.predict(X_test)\n",
    "Y_pred = pd.Series(Y_pred, index = Y_test.index)\n",
    "plt.scatter(x=Y_pred, y=Y_test, c='r')\n",
    "plt.xlabel(\"Predicted\")\n",
    "plt.ylabel(\"Actual\")\n",
    "plt.show()"
   ]
  },
  {
   "cell_type": "code",
   "execution_count": null,
   "metadata": {
    "scrolled": true
   },
   "outputs": [],
   "source": [
    "dataset['return'].plot()"
   ]
  },
  {
   "cell_type": "markdown",
   "metadata": {
    "collapsed": true
   },
   "source": [
    "## What have we learned?"
   ]
  }
 ],
 "metadata": {
  "kernelspec": {
   "display_name": "Python 3",
   "language": "python",
   "name": "python3"
  },
  "language_info": {
   "codemirror_mode": {
    "name": "ipython",
    "version": 3
   },
   "file_extension": ".py",
   "mimetype": "text/x-python",
   "name": "python",
   "nbconvert_exporter": "python",
   "pygments_lexer": "ipython3",
   "version": "3.6.4"
  }
 },
 "nbformat": 4,
 "nbformat_minor": 1
}
