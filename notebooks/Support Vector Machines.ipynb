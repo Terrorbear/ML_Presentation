{
 "cells": [
  {
   "cell_type": "code",
   "execution_count": null,
   "metadata": {
    "collapsed": true
   },
   "outputs": [],
   "source": [
    "# This is just a preamble that sets a bunch of options up.\n",
    "%matplotlib inline\n",
    "\n",
    "import pandas as pd\n",
    "import numpy as np\n",
    "import matplotlib.pyplot as plt\n",
    "\n",
    "pd.set_option('display.mpl_style', 'default') # Make the graphs a bit prettier\n",
    "plt.rcParams['figure.figsize'] = (15, 5)"
   ]
  },
  {
   "cell_type": "code",
   "execution_count": null,
   "metadata": {
    "collapsed": false
   },
   "outputs": [],
   "source": [
    "# \"Svm separating hyperplanes (SVG)\" by User:ZackWeinberg, based on PNG version by User:Cyc\n",
    "# This file was derived from:  Svm separating hyperplanes.png.\n",
    "# Licensed under CC BY-SA 3.0 via Commons\n",
    "# https://commons.wikimedia.org/wiki/File:Svm_separating_hyperplanes_(SVG).svg#/media/File:Svm_separating_hyperplanes_(SVG).svg\n",
    "\n",
    "from IPython.display import Image\n",
    "Image(filename='../data/svm.png', width=500)"
   ]
  },
  {
   "cell_type": "code",
   "execution_count": null,
   "metadata": {
    "collapsed": false
   },
   "outputs": [],
   "source": [
    "dataset = pd.read_csv('../data/01_heights_weights_genders.csv')\n",
    "print(dataset.head())"
   ]
  },
  {
   "cell_type": "code",
   "execution_count": null,
   "metadata": {
    "collapsed": false
   },
   "outputs": [],
   "source": [
    "# Females\n",
    "plt.plot(dataset[dataset['Gender']=='Female']['Height'], dataset[dataset['Gender']=='Female']['Weight'],\n",
    "         '.', markersize=3, color='red')\n",
    "\n",
    "# Males\n",
    "plt.plot(dataset[dataset['Gender']=='Male']['Height'],dataset[dataset['Gender']=='Male']['Weight'],\n",
    "         '.', markersize=3, color='blue')"
   ]
  },
  {
   "cell_type": "code",
   "execution_count": null,
   "metadata": {
    "collapsed": false
   },
   "outputs": [],
   "source": [
    "from sklearn.cross_validation import train_test_split\n",
    "\n",
    "# Split our dataset into 2 parts - 70% for training and 30% for testing\n",
    "train, test = train_test_split(dataset, test_size = 0.3)"
   ]
  },
  {
   "cell_type": "code",
   "execution_count": null,
   "metadata": {
    "collapsed": false
   },
   "outputs": [],
   "source": [
    "from sklearn import svm\n",
    "\n",
    "# Train the classifier using fit()\n",
    "clf = svm.SVC(kernel='linear')\n",
    "clf.fit(train[['Height', 'Weight']], pd.Categorical.from_array(train['Gender']).labels)"
   ]
  },
  {
   "cell_type": "code",
   "execution_count": null,
   "metadata": {
    "collapsed": true
   },
   "outputs": [],
   "source": [
    "plt.xlim(50, 80)\n",
    "plt.ylim(50, 300)\n",
    "\n",
    "height, weight = np.meshgrid(np.arange(50, 90, 1), np.arange(50, 300, 1))\n",
    "\n",
    "gender = clf.predict(np.c_[height.ravel(), weight.ravel()])\n",
    "gender = gender.reshape(height.shape)\n",
    "cs = plt.contourf(height, weight, gender, len(train['Gender'].unique()), cmap=plt.cm.Paired, alpha=0.8)\n",
    "\n",
    "# Females\n",
    "plt.plot(dataset[dataset['Gender']=='Female']['Height'], dataset[dataset['Gender']=='Female']['Weight'],\n",
    "         '.', markersize=3, color='red')\n",
    "\n",
    "# Males\n",
    "plt.plot(dataset[dataset['Gender']=='Male']['Height'],dataset[dataset['Gender']=='Male']['Weight'],\n",
    "         '.', markersize=3, color='blue')"
   ]
  },
  {
   "cell_type": "code",
   "execution_count": null,
   "metadata": {
    "collapsed": true
   },
   "outputs": [],
   "source": [
    "clf.fit(train[['Height', 'Weight']], pd.Categorical.from_array(train['Gender']))"
   ]
  },
  {
   "cell_type": "code",
   "execution_count": null,
   "metadata": {
    "collapsed": true
   },
   "outputs": [],
   "source": [
    "# See how well we are classifying using score()\n",
    "clf.score(test[['Height', 'Weight']], pd.Categorical.from_array(test['Gender']))"
   ]
  }
 ],
 "metadata": {
  "kernelspec": {
   "display_name": "Python 2",
   "language": "python",
   "name": "python2"
  },
  "language_info": {
   "codemirror_mode": {
    "name": "ipython",
    "version": 2
   },
   "file_extension": ".py",
   "mimetype": "text/x-python",
   "name": "python",
   "nbconvert_exporter": "python",
   "pygments_lexer": "ipython2",
   "version": "2.7.11"
  }
 },
 "nbformat": 4,
 "nbformat_minor": 0
}
